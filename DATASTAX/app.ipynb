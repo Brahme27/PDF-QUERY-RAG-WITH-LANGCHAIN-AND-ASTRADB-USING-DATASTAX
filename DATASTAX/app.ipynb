{
 "cells": [
  {
   "cell_type": "markdown",
   "id": "a2007753",
   "metadata": {},
   "source": [
    "#  Install and import required libraries"
   ]
  },
  {
   "cell_type": "code",
   "execution_count": 22,
   "id": "d2f73dcf",
   "metadata": {},
   "outputs": [],
   "source": [
    "# Install PyPDF2 for reading PDF files\n",
    "# !pip install pyPDF2\n",
    "\n",
    "# Import necessary libraries for LangChain and PDF reading\n",
    "from langchain.vectorstores.cassandra import Cassandra\n",
    "from langchain.indexes.vectorstore import VectorStoreIndexWrapper\n",
    "from langchain.llms import OpenAI\n",
    "from langchain.embeddings import OpenAIEmbeddings\n",
    "from langchain.text_splitter import CharacterTextSplitter\n",
    "\n",
    "from PyPDF2 import PdfReader\n",
    "import cassio\n",
    "import os\n",
    "from dotenv import load_dotenv"
   ]
  },
  {
   "cell_type": "markdown",
   "id": "99c09b7e",
   "metadata": {},
   "source": [
    "# Load API keys and connect to AstraDB"
   ]
  },
  {
   "cell_type": "code",
   "execution_count": null,
   "id": "f895cf41",
   "metadata": {},
   "outputs": [],
   "source": [
    "# Load environment variables for OpenAI API key\n",
    "load_dotenv()\n",
    "OPENAI_API_KEY = os.getenv(\"OPENAI_API_KEY\")\n",
    "\n",
    "# AstraDB credentials (replace with your actual tokens)\n",
    "ASTRA_DB_APPLICATION_TOKEN = os.getenv(\"ASTRA_DB_APPLICATION_TOKEN\")\n",
    "ASTRA_DB_ID = os.getenv(\"ASTRA_DB_ID\")\n",
    "\n",
    "# Initialize connection to AstraDB\n",
    "cassio.init(token=ASTRA_DB_APPLICATION_TOKEN, database_id=ASTRA_DB_ID)\n"
   ]
  },
  {
   "cell_type": "markdown",
   "id": "a330f3e7",
   "metadata": {},
   "source": [
    "# Read text from the PDF file"
   ]
  },
  {
   "cell_type": "code",
   "execution_count": null,
   "id": "caf60e8b",
   "metadata": {},
   "outputs": [],
   "source": [
    "# Load the PDF file\n",
    "pdf_reader = PdfReader(\"budget_speech.pdf\")\n",
    "\n",
    "# Extract all text from the PDF pages into one string\n",
    "raw_text = \"\"\n",
    "for page in pdf_reader.pages:\n",
    "    content = page.extract_text()\n",
    "    if content:\n",
    "        raw_text += content\n"
   ]
  },
  {
   "cell_type": "markdown",
   "id": "b7245a18",
   "metadata": {},
   "source": [
    "# Split the text into smaller chunks for easier processing"
   ]
  },
  {
   "cell_type": "code",
   "execution_count": null,
   "id": "d4bf4fe5",
   "metadata": {},
   "outputs": [],
   "source": [
    "# Create a text splitter that breaks the text into chunks of about 800 characters,\n",
    "# with 200 characters overlapping to keep context between chunks\n",
    "text_splitter = CharacterTextSplitter(\n",
    "    separator=\"\\n\",\n",
    "    chunk_size=800,\n",
    "    chunk_overlap=200,\n",
    "    length_function=len\n",
    ")\n",
    "\n",
    "# Split the raw text\n",
    "texts = text_splitter.split_text(raw_text)\n",
    "\n",
    "# Check the first chunk (optional)\n",
    "print(texts[:1])\n"
   ]
  },
  {
   "cell_type": "markdown",
   "id": "4ce30db5",
   "metadata": {},
   "source": [
    "#  Set up OpenAI LLM and embedding models"
   ]
  },
  {
   "cell_type": "code",
   "execution_count": null,
   "id": "2a634fd9",
   "metadata": {},
   "outputs": [],
   "source": [
    "# Initialize OpenAI LLM (language model) and embeddings using your API key\n",
    "llm = OpenAI(openai_api_key=OPENAI_API_KEY)\n",
    "embeddings = OpenAIEmbeddings(openai_api_key=OPENAI_API_KEY)"
   ]
  },
  {
   "cell_type": "markdown",
   "id": "a9558dd8",
   "metadata": {},
   "source": [
    "# Create a vector store backed by AstraDB and insert text chunks"
   ]
  },
  {
   "cell_type": "code",
   "execution_count": null,
   "id": "9edb33e6",
   "metadata": {},
   "outputs": [],
   "source": [
    "# Create the Cassandra (AstraDB) vector store with embeddings\n",
    "astra_vector_store = Cassandra(\n",
    "    embedding=embeddings,\n",
    "    table_name=\"demo_table\",\n",
    "    session=None,\n",
    "    keyspace=None\n",
    ")\n",
    "\n",
    "# Insert the first 10 text chunks into the vector store\n",
    "astra_vector_store.add_texts(texts[:10])\n",
    "\n",
    "print(f\"Successfully inserted first {len(texts[:10])} chunks of text.\")\n"
   ]
  },
  {
   "cell_type": "markdown",
   "id": "11f3d888",
   "metadata": {},
   "source": [
    "#  Create an index and query the stored text"
   ]
  },
  {
   "cell_type": "code",
   "execution_count": null,
   "id": "a1cdab57",
   "metadata": {},
   "outputs": [],
   "source": [
    "# Wrap the vector store with an index for easy querying\n",
    "astra_vector_index = VectorStoreIndexWrapper(vectorstore=astra_vector_store)\n",
    "\n",
    "# Query the index with a question, and get a response from the LLM\n",
    "response = astra_vector_index.query(question=\"what are the contents of the speech\", llm=llm)\n",
    "\n",
    "print(response)\n"
   ]
  },
  {
   "cell_type": "markdown",
   "id": "0fce5bf1",
   "metadata": {},
   "source": [
    "# (Optional) Perform similarity search directly on the vector store"
   ]
  },
  {
   "cell_type": "code",
   "execution_count": null,
   "id": "9becdde1",
   "metadata": {},
   "outputs": [],
   "source": [
    "# Find the most similar text chunk(s) to the query\n",
    "results = astra_vector_store.similarity_search(query=\"what are the contents of the speech\", k=1)\n",
    "\n",
    "# Print the best matching chunk\n",
    "print(results[0].page_content)\n"
   ]
  }
 ],
 "metadata": {
  "language_info": {
   "name": "python"
  }
 },
 "nbformat": 4,
 "nbformat_minor": 5
}
